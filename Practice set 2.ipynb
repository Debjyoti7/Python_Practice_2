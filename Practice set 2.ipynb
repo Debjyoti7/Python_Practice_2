{
 "cells": [
  {
   "cell_type": "markdown",
   "id": "b7750375-126a-4d5e-b4fc-9a8bc273ffaa",
   "metadata": {},
   "source": [
    "# Q1. Create a list in python using the followings: 2,3,4,5,6,7 with variable ‘a’ Add ‘mango to the above list\n",
    "# Also add banana, grapes & orange in the list\n",
    "# insert apple in the 5th position of a variable ‘a’\n",
    "# Remove last item from the list"
   ]
  },
  {
   "cell_type": "code",
   "execution_count": 6,
   "id": "8711738c-0150-4b6c-abaa-cd30adb4d74e",
   "metadata": {},
   "outputs": [],
   "source": [
    "a = [2,3,4,5,6,7]\n",
    "b = ['mango', \"banana\" , \"grapes\" , \"orange\"]"
   ]
  },
  {
   "cell_type": "code",
   "execution_count": 7,
   "id": "b62fcaec-7e3b-4dca-bd1a-1b279c654832",
   "metadata": {},
   "outputs": [
    {
     "data": {
      "text/plain": [
       "['mango', 'banana', 'grapes', 'orange']"
      ]
     },
     "execution_count": 7,
     "metadata": {},
     "output_type": "execute_result"
    }
   ],
   "source": [
    "b"
   ]
  },
  {
   "cell_type": "code",
   "execution_count": 8,
   "id": "77341796-203e-44da-a9af-501764f4685f",
   "metadata": {},
   "outputs": [],
   "source": [
    "a.append(b)"
   ]
  },
  {
   "cell_type": "code",
   "execution_count": 9,
   "id": "948cccd8-f266-495e-94b1-cdfe8e0cb730",
   "metadata": {},
   "outputs": [
    {
     "data": {
      "text/plain": [
       "[2, 3, 4, 5, 6, 7, ['mango', 'banana', 'grapes', 'orange']]"
      ]
     },
     "execution_count": 9,
     "metadata": {},
     "output_type": "execute_result"
    }
   ],
   "source": [
    "a"
   ]
  },
  {
   "cell_type": "code",
   "execution_count": 13,
   "id": "e4922202-debb-433d-9db9-5e2eb0108faa",
   "metadata": {},
   "outputs": [],
   "source": [
    "a.insert( 4, 'apple')"
   ]
  },
  {
   "cell_type": "code",
   "execution_count": 14,
   "id": "da7e642c-e0f1-47f5-9e2e-6a33666cae0d",
   "metadata": {},
   "outputs": [
    {
     "data": {
      "text/plain": [
       "[2,\n",
       " 3,\n",
       " 4,\n",
       " 5,\n",
       " 'apple',\n",
       " 'apple',\n",
       " 6,\n",
       " 7,\n",
       " ['mango', 'banana', 'grapes', 'orange'],\n",
       " 'apple']"
      ]
     },
     "execution_count": 14,
     "metadata": {},
     "output_type": "execute_result"
    }
   ],
   "source": [
    "a"
   ]
  },
  {
   "cell_type": "code",
   "execution_count": 22,
   "id": "b4904496-f1bc-4123-b165-99f779a95943",
   "metadata": {},
   "outputs": [
    {
     "data": {
      "text/plain": [
       "'apple'"
      ]
     },
     "execution_count": 22,
     "metadata": {},
     "output_type": "execute_result"
    }
   ],
   "source": [
    "a.pop()"
   ]
  },
  {
   "cell_type": "code",
   "execution_count": 23,
   "id": "3edc81ec-2715-4bd9-88cf-09578ca0c41f",
   "metadata": {},
   "outputs": [
    {
     "data": {
      "text/plain": [
       "[2, 3, 4, 5, 'apple', 'apple', ['mango', 'banana', 'grapes', 'orange']]"
      ]
     },
     "execution_count": 23,
     "metadata": {},
     "output_type": "execute_result"
    }
   ],
   "source": [
    "a"
   ]
  },
  {
   "cell_type": "code",
   "execution_count": 25,
   "id": "54fa3628-1520-4a94-ad45-a2d232df67ef",
   "metadata": {},
   "outputs": [],
   "source": [
    "a.remove('apple')"
   ]
  },
  {
   "cell_type": "code",
   "execution_count": 26,
   "id": "4974f31c-6371-46b7-a979-1d8ae4338e3f",
   "metadata": {},
   "outputs": [
    {
     "data": {
      "text/plain": [
       "[2, 3, 4, 5, 'apple', ['mango', 'banana', 'grapes', 'orange']]"
      ]
     },
     "execution_count": 26,
     "metadata": {},
     "output_type": "execute_result"
    }
   ],
   "source": [
    "a"
   ]
  },
  {
   "cell_type": "markdown",
   "id": "515d6546-51d4-44c1-8325-35a9c18046b8",
   "metadata": {},
   "source": [
    "# Q2.\n",
    "# L = [1,2,3,4,5,6,7]\n",
    "# Using the above list slice from 1:4"
   ]
  },
  {
   "cell_type": "code",
   "execution_count": 27,
   "id": "23c5ee29-fc74-4169-88a5-8cfdf5dfc066",
   "metadata": {},
   "outputs": [],
   "source": [
    "L = [1,2,3,4,5,6,7]"
   ]
  },
  {
   "cell_type": "code",
   "execution_count": 28,
   "id": "e381ad81-248a-4522-8c53-74aa82159004",
   "metadata": {},
   "outputs": [
    {
     "data": {
      "text/plain": [
       "[2, 3, 4]"
      ]
     },
     "execution_count": 28,
     "metadata": {},
     "output_type": "execute_result"
    }
   ],
   "source": [
    "L [1:4]"
   ]
  },
  {
   "cell_type": "markdown",
   "id": "5597a0d3-d264-48d7-889d-eaef319fe701",
   "metadata": {},
   "source": [
    "# Q3. Reverse the order of given string L = [4,5,6,8,3] Without using reverse() function."
   ]
  },
  {
   "cell_type": "code",
   "execution_count": 29,
   "id": "69f5f05f-6089-47c9-8cf9-f0c8b334280b",
   "metadata": {},
   "outputs": [],
   "source": [
    "L = [4,5,6,8,3]\n"
   ]
  },
  {
   "cell_type": "code",
   "execution_count": 30,
   "id": "6d68d2a3-d630-43aa-abae-cf8674ecd352",
   "metadata": {},
   "outputs": [],
   "source": [
    "L.reverse()"
   ]
  },
  {
   "cell_type": "code",
   "execution_count": 31,
   "id": "a273acdd-b854-4a3d-b1fc-5ac7687b4bcf",
   "metadata": {},
   "outputs": [
    {
     "data": {
      "text/plain": [
       "[3, 8, 6, 5, 4]"
      ]
     },
     "execution_count": 31,
     "metadata": {},
     "output_type": "execute_result"
    }
   ],
   "source": [
    "L"
   ]
  },
  {
   "cell_type": "code",
   "execution_count": 32,
   "id": "28b8b8d1-c641-4963-b9ec-15b728aeb142",
   "metadata": {},
   "outputs": [
    {
     "data": {
      "text/plain": [
       "[3, 8, 6, 5]"
      ]
     },
     "execution_count": 32,
     "metadata": {},
     "output_type": "execute_result"
    }
   ],
   "source": [
    "L[:-1]"
   ]
  },
  {
   "cell_type": "markdown",
   "id": "2d228f93-d36f-4a8f-a963-a4ad1b8b7616",
   "metadata": {},
   "source": [
    "# Q4. Use list comprehension to square the given list L=[2,4,7,3,6,8]"
   ]
  },
  {
   "cell_type": "code",
   "execution_count": 33,
   "id": "a36f0ed5-448a-4102-8214-283b27c8c656",
   "metadata": {},
   "outputs": [],
   "source": [
    "L=[2,4,7,3,6,8]"
   ]
  },
  {
   "cell_type": "code",
   "execution_count": 34,
   "id": "336b45bf-22f8-453f-9ad9-8d08f433c89c",
   "metadata": {},
   "outputs": [
    {
     "data": {
      "text/plain": [
       "[2, 4, 7, 3, 6, 8]"
      ]
     },
     "execution_count": 34,
     "metadata": {},
     "output_type": "execute_result"
    }
   ],
   "source": [
    "L\n"
   ]
  },
  {
   "cell_type": "code",
   "execution_count": 36,
   "id": "662451f2-d82f-4ae7-9c9b-3d518faf2990",
   "metadata": {},
   "outputs": [
    {
     "data": {
      "text/plain": [
       "0"
      ]
     },
     "execution_count": 36,
     "metadata": {},
     "output_type": "execute_result"
    }
   ],
   "source": [
    "L.count(1)"
   ]
  },
  {
   "cell_type": "code",
   "execution_count": 40,
   "id": "93474510-3322-4eb1-8ad3-18d4e21a8f88",
   "metadata": {},
   "outputs": [],
   "source": [
    "square_L = list(map(lambda x : x**2 , L))\n",
    "    "
   ]
  },
  {
   "cell_type": "code",
   "execution_count": 41,
   "id": "6f31e505-5d53-400a-83be-29792fb67ceb",
   "metadata": {},
   "outputs": [
    {
     "data": {
      "text/plain": [
       "[4, 16, 49, 9, 36, 64]"
      ]
     },
     "execution_count": 41,
     "metadata": {},
     "output_type": "execute_result"
    }
   ],
   "source": [
    "square_L"
   ]
  },
  {
   "cell_type": "markdown",
   "id": "0284322c-9c4a-4da7-b6ff-59fa92549c3f",
   "metadata": {},
   "source": [
    "# Q5. Create a function that takes in a tuple of integers and returns the sum of the integers. Test the function with a tuple of your choice."
   ]
  },
  {
   "cell_type": "code",
   "execution_count": 1,
   "id": "afd28260-578b-4096-a4a8-692060c3fc2f",
   "metadata": {},
   "outputs": [],
   "source": [
    "my_tuples = (1,2,3,4,5,6,7,8,9)"
   ]
  },
  {
   "cell_type": "code",
   "execution_count": 2,
   "id": "74ab7158-4c77-42ec-8642-2c8934c980c1",
   "metadata": {},
   "outputs": [
    {
     "data": {
      "text/plain": [
       "(1, 2, 3, 4, 5, 6, 7, 8, 9)"
      ]
     },
     "execution_count": 2,
     "metadata": {},
     "output_type": "execute_result"
    }
   ],
   "source": [
    "my_tuples"
   ]
  },
  {
   "cell_type": "code",
   "execution_count": 6,
   "id": "a021cd00-2be6-4503-a7ec-feced931c919",
   "metadata": {},
   "outputs": [
    {
     "name": "stdout",
     "output_type": "stream",
     "text": [
      "45\n"
     ]
    }
   ],
   "source": [
    "tuples_sum = sum(my_tuples)\n",
    "print(tuples_sum)"
   ]
  },
  {
   "cell_type": "markdown",
   "id": "10d1520c-4c8b-45d3-9d65-3a9f7fe944dc",
   "metadata": {},
   "source": [
    "# Q6. Create two sets of your favourite fruits, and use the union() method to combine them into a single set. Print the resulting set to the console."
   ]
  },
  {
   "cell_type": "code",
   "execution_count": 13,
   "id": "62261f77-65ab-4937-8d07-2a9fd1531615",
   "metadata": {},
   "outputs": [
    {
     "data": {
      "text/plain": [
       "{'apple', 'banana', 'lemon', 'mango', 'orange'}"
      ]
     },
     "execution_count": 13,
     "metadata": {},
     "output_type": "execute_result"
    }
   ],
   "source": [
    "set_1 = {'mango' , 'banana' , 'apple' , 'orange'}\n",
    "set_2 = {'apple' , 'lemon' , 'banana'}\n",
    "set_1.union(set_2)"
   ]
  },
  {
   "cell_type": "code",
   "execution_count": 8,
   "id": "675f174d-a786-45ed-a68f-20e36075ca72",
   "metadata": {},
   "outputs": [
    {
     "data": {
      "text/plain": [
       "{'apple', 'banana', 'mango', 'orange'}"
      ]
     },
     "execution_count": 8,
     "metadata": {},
     "output_type": "execute_result"
    }
   ],
   "source": [
    "set_1"
   ]
  },
  {
   "cell_type": "code",
   "execution_count": 9,
   "id": "7ac1d8cb-0937-4672-a024-1c019fa8ed25",
   "metadata": {},
   "outputs": [
    {
     "data": {
      "text/plain": [
       "{'apple', 'banana', 'lemon'}"
      ]
     },
     "execution_count": 9,
     "metadata": {},
     "output_type": "execute_result"
    }
   ],
   "source": [
    "set_2"
   ]
  },
  {
   "cell_type": "code",
   "execution_count": 11,
   "id": "09ba05fd-f12c-42b8-8077-0cd8a20f7514",
   "metadata": {},
   "outputs": [
    {
     "name": "stdout",
     "output_type": "stream",
     "text": [
      "{'mango', 'apple', 'lemon', 'orange', 'banana'}\n"
     ]
    }
   ],
   "source": [
    "print(set_1.union(set_2))"
   ]
  },
  {
   "cell_type": "code",
   "execution_count": 14,
   "id": "f21df6e3-e294-46eb-9152-3e52c7755557",
   "metadata": {},
   "outputs": [
    {
     "data": {
      "text/plain": [
       "{'apple', 'banana'}"
      ]
     },
     "execution_count": 14,
     "metadata": {},
     "output_type": "execute_result"
    }
   ],
   "source": [
    "set_1.intersection(set_2)"
   ]
  },
  {
   "cell_type": "markdown",
   "id": "9364acb5-5b3c-4288-9adb-c14627fc50dd",
   "metadata": {},
   "source": [
    "# Q7. Create a set of random words, and use the add() method to add a new word to the set. Print the resulting set to the console."
   ]
  },
  {
   "cell_type": "code",
   "execution_count": 15,
   "id": "25a53bbd-3d0a-4c41-8e78-4f40b66b2011",
   "metadata": {},
   "outputs": [
    {
     "name": "stdout",
     "output_type": "stream",
     "text": [
      "{'cherry', 'orange', 'mango', 'apple', 'banana'}\n"
     ]
    }
   ],
   "source": [
    "my_set = {\"apple\", \"banana\", \"cherry\", \"orange\"}\n",
    "\n",
    "my_set.add(\"mango\")\n",
    "\n",
    "print(my_set)\n"
   ]
  },
  {
   "cell_type": "markdown",
   "id": "b638190c-e0be-450a-a605-2a22c3227fe3",
   "metadata": {},
   "source": [
    "# Q8. Create a set of your favourite animals, and use the remove() method to remove one animal from the set. Print the resulting set to the console."
   ]
  },
  {
   "cell_type": "code",
   "execution_count": 17,
   "id": "8bb592d0-601e-4e4c-8b6c-586db2ec0c07",
   "metadata": {},
   "outputs": [
    {
     "name": "stdout",
     "output_type": "stream",
     "text": [
      "{'dog', 'cat', 'fox', 'wolve'}\n"
     ]
    }
   ],
   "source": [
    "my_animal = {'dog', 'cat' , 'fox' , 'wolve' , 'tiger'}\n",
    "my_animal.remove('tiger')\n",
    "print(my_animal)"
   ]
  },
  {
   "cell_type": "markdown",
   "id": "44924b14-1bad-456b-b216-eea4a65519e6",
   "metadata": {},
   "source": [
    "# Q9. favorite_books = {\"1984\", \"To Kill a Mockingbird\", \"Pride and Prejudice\"}\n",
    "# favorite_movies = [\"The Shawshank Redemption\", \"The Godfather\", \"The Dark Knight\"]\n",
    "# Use the zip() function to combine the book set and movie list into a list of tuples representing book/\n",
    "# movie pairs. Print the resulting list."
   ]
  },
  {
   "cell_type": "code",
   "execution_count": 18,
   "id": "6ee843ba-ea3d-4aaa-a47d-9a80e50b68fb",
   "metadata": {},
   "outputs": [
    {
     "name": "stdout",
     "output_type": "stream",
     "text": [
      "(('Pride and Prejudice', 'The Shawshank Redemption'), ('To Kill a Mockingbird', 'The Godfather'), ('1984', 'The Dark Knight'))\n"
     ]
    }
   ],
   "source": [
    "favorite_books = {\"1984\", \"To Kill a Mockingbird\", \"Pride and Prejudice\"}\n",
    "favorite_movies = [\"The Shawshank Redemption\", \"The Godfather\", \"The Dark Knight\"]\n",
    "new_lst = tuple(zip(favorite_books , favorite_movies))\n",
    "print(new_lst)"
   ]
  },
  {
   "cell_type": "markdown",
   "id": "4f610b0a-8c7d-4a16-9436-340dd83ed06a",
   "metadata": {},
   "source": [
    "# Q10. Write a Python program to find the difference between consecutive numbers in a list."
   ]
  },
  {
   "cell_type": "code",
   "execution_count": 19,
   "id": "f5b9091e-cc48-434f-8a2c-086fa98fd9a6",
   "metadata": {},
   "outputs": [],
   "source": [
    "lst = [1,3,4,56,78,99,234,54]\n",
    " diff\n",
    "for i in range(len((lst)-1)):\n",
    "    diff = lst[i+1]-lst[i]\n",
    "    diff_lst.append(diff)\n",
    "    \n",
    "print(diff_lst)    \n",
    "        "
   ]
  },
  {
   "cell_type": "code",
   "execution_count": null,
   "id": "a852289a-4423-43f9-a50f-a1a1c1e6348b",
   "metadata": {},
   "outputs": [],
   "source": []
  }
 ],
 "metadata": {
  "kernelspec": {
   "display_name": "Python 3 (ipykernel)",
   "language": "python",
   "name": "python3"
  },
  "language_info": {
   "codemirror_mode": {
    "name": "ipython",
    "version": 3
   },
   "file_extension": ".py",
   "mimetype": "text/x-python",
   "name": "python",
   "nbconvert_exporter": "python",
   "pygments_lexer": "ipython3",
   "version": "3.10.8"
  }
 },
 "nbformat": 4,
 "nbformat_minor": 5
}
